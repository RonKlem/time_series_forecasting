{
 "cells": [
  {
   "cell_type": "code",
   "execution_count": 1,
   "metadata": {},
   "outputs": [],
   "source": [
    "import pandas as pd\n",
    "import numpy as np\n",
    "from datetime import datetime, timedelta"
   ]
  },
  {
   "cell_type": "code",
   "execution_count": 2,
   "metadata": {},
   "outputs": [],
   "source": [
    "# Parameters\n",
    "num_customers = 1000\n",
    "num_products = 50\n",
    "num_services = 20\n",
    "start_date = datetime(2024, 1, 1)\n",
    "end_date = datetime(2034, 1, 1)\n",
    "date_range = pd.date_range(start_date, end_date, freq='MS')"
   ]
  },
  {
   "cell_type": "code",
   "execution_count": 3,
   "metadata": {},
   "outputs": [],
   "source": [
    "# Generate initial data\n",
    "customers = [f'CUST{i:03d}' for i in range(1, num_customers + 1)]\n",
    "products = [f'PROD{i:03d}' for i in range(1, num_products + 1)]\n",
    "services = [f'SERV{i:03d}' for i in range(1, num_services + 1)]\n",
    "parent_ids = [f'PARENT{i:03d}' for i in range(1, num_customers // 2 + 1)]"
   ]
  },
  {
   "cell_type": "code",
   "execution_count": 4,
   "metadata": {},
   "outputs": [],
   "source": [
    "# Create a DataFrame to hold the data\n",
    "data = []"
   ]
  },
  {
   "cell_type": "code",
   "execution_count": 5,
   "metadata": {},
   "outputs": [],
   "source": [
    "# Simulate data for each month\n",
    "for date in date_range:\n",
    "    for customer in customers:\n",
    "        parent_id = np.random.choice(parent_ids)\n",
    "        service_id = np.random.choice(services)\n",
    "        for product in products:\n",
    "            if np.random.rand() > 0.5:  # Randomly decide if the customer has this product\n",
    "                volume = np.random.randint(1, 20)\n",
    "                charge = np.random.randint(50, 200) * (1 + (date.year - start_date.year) * 0.05)  # Increase price over time\n",
    "                data.append([date, parent_id, customer, service_id, product, f'Product {product[-3:]}', volume, f'${charge:.2f}'])"
   ]
  },
  {
   "cell_type": "code",
   "execution_count": 6,
   "metadata": {},
   "outputs": [],
   "source": [
    "# Convert to DataFrame\n",
    "df = pd.DataFrame(data, columns=['Billing Date', 'Parent ID', 'Customer ID', 'Service ID', 'Product ID', 'Product Description', 'Volume', 'Charge'])"
   ]
  },
  {
   "cell_type": "code",
   "execution_count": 7,
   "metadata": {},
   "outputs": [],
   "source": [
    "# Simulate customer behavior\n",
    "# Loyal customers\n",
    "loyal_customers = np.random.choice(customers, size=int(num_customers * 0.2), replace=False)\n",
    "# Customers who stop being billed\n",
    "stopped_customers = np.random.choice(customers, size=int(num_customers * 0.1), replace=False)\n",
    "# Customers who merge under a different parent ID\n",
    "merged_customers = np.random.choice(customers, size=int(num_customers * 0.1), replace=False)"
   ]
  },
  {
   "cell_type": "code",
   "execution_count": 8,
   "metadata": {},
   "outputs": [],
   "source": [
    "# Apply behavior to DataFrame\n",
    "df = df[~df['Customer ID'].isin(stopped_customers)]\n",
    "for customer in merged_customers:\n",
    "    new_parent_id = np.random.choice(parent_ids)\n",
    "    df.loc[df['Customer ID'] == customer, 'Parent ID'] = new_parent_id"
   ]
  },
  {
   "cell_type": "code",
   "execution_count": 9,
   "metadata": {},
   "outputs": [],
   "source": [
    "# Simulate product lifecycle\n",
    "# Products that get sunsetted\n",
    "sunsetted_products = np.random.choice(products, size=int(num_products * 0.2), replace=False)\n",
    "# New products that are created\n",
    "new_products = [f'PROD{i:03d}' for i in range(num_products + 1, num_products + 11)]"
   ]
  },
  {
   "cell_type": "code",
   "execution_count": 11,
   "metadata": {},
   "outputs": [],
   "source": [
    "# Apply product lifecycle to DataFrame\n",
    "df = df[~df['Product ID'].isin(sunsetted_products)]\n",
    "for product in new_products:\n",
    "    for date in date_range:\n",
    "        for customer in customers:\n",
    "            if np.random.rand() > 0.5:\n",
    "                volume = np.random.randint(1, 20)\n",
    "                charge = np.random.randint(50, 200) * (1 + (date.year - start_date.year) * 0.05)\n",
    "                new_row = pd.DataFrame({'Billing Date': [date], \n",
    "                                        'Parent ID': [np.random.choice(parent_ids)], \n",
    "                                        'Customer ID': [customer], \n",
    "                                        'Service ID': [np.random.choice(services)], \n",
    "                                        'Product ID': [product], \n",
    "                                        'Product Description': [f'Product {product[-3:]}'], \n",
    "                                        'Volume': [volume], \n",
    "                                        'Charge': [f'${charge:.2f}']})\n",
    "                df = pd.concat([df, new_row], ignore_index=True)"
   ]
  },
  {
   "cell_type": "code",
   "execution_count": null,
   "metadata": {},
   "outputs": [],
   "source": [
    "# Ensure we have 100,000 rows\n",
    "while len(df) < 100000:\n",
    "    date = np.random.choice(date_range)\n",
    "    customer = np.random.choice(customers)\n",
    "    parent_id = np.random.choice(parent_ids)\n",
    "    service_id = np.random.choice(services)\n",
    "    product = np.random.choice(products + new_products)\n",
    "    volume = np.random.randint(1, 20)\n",
    "    charge = np.random.randint(50, 200) * (1 + (date.year - start_date.year) * 0.05)\n",
    "    new_row = pd.DataFrame({'Billing Date': [date], \n",
    "                            'Parent ID': [parent_id], \n",
    "                            'Customer ID': [customer], \n",
    "                            'Service ID': [service_id], \n",
    "                            'Product ID': [product], \n",
    "                            'Product Description': [f'Product {product[-3:]}'], \n",
    "                            'Volume': [volume], \n",
    "                            'Charge': [f'${charge:.2f}']})\n",
    "    df = pd.concat([df, new_row], ignore_index=True)"
   ]
  },
  {
   "cell_type": "code",
   "execution_count": null,
   "metadata": {},
   "outputs": [],
   "source": [
    "# Save to CSV\n",
    "df.to_csv('dummy_data.csv', index=False)"
   ]
  }
 ],
 "metadata": {
  "kernelspec": {
   "display_name": "Python 3",
   "language": "python",
   "name": "python3"
  },
  "language_info": {
   "codemirror_mode": {
    "name": "ipython",
    "version": 3
   },
   "file_extension": ".py",
   "mimetype": "text/x-python",
   "name": "python",
   "nbconvert_exporter": "python",
   "pygments_lexer": "ipython3",
   "version": "3.10.9"
  }
 },
 "nbformat": 4,
 "nbformat_minor": 2
}
