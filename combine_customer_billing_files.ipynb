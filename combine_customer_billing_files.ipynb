{
 "cells": [
  {
   "cell_type": "code",
   "execution_count": 1,
   "metadata": {},
   "outputs": [],
   "source": [
    "import os\n",
    "import pandas as pd"
   ]
  },
  {
   "cell_type": "code",
   "execution_count": 2,
   "metadata": {},
   "outputs": [],
   "source": [
    "# Directory containing the files\n",
    "directory = 'customer_billing_files'\n",
    "\n",
    "# Get all the file names in the directory\n",
    "file_names = os.listdir(directory)\n",
    "\n",
    "# Initialize an empty DataFrame to store the combined data\n",
    "combined_data = pd.DataFrame()"
   ]
  },
  {
   "cell_type": "code",
   "execution_count": 4,
   "metadata": {},
   "outputs": [],
   "source": [
    "# Iterate over each file\n",
    "for file_name in file_names:\n",
    "\n",
    "    # Check if the file is a CSV file\n",
    "    if file_name.endswith('.csv'):\n",
    "\n",
    "        # Read the CSV file into a DataFrame\n",
    "        file_path = os.path.join(directory, file_name)\n",
    "        data = pd.read_csv(file_path)\n",
    "\n",
    "        # Append the data to the combined DataFrame using the concat() method\n",
    "        combined_data = pd.concat([combined_data, data], ignore_index=True)"
   ]
  },
  {
   "cell_type": "code",
   "execution_count": 5,
   "metadata": {},
   "outputs": [
    {
     "data": {
      "text/html": [
       "<div>\n",
       "<style scoped>\n",
       "    .dataframe tbody tr th:only-of-type {\n",
       "        vertical-align: middle;\n",
       "    }\n",
       "\n",
       "    .dataframe tbody tr th {\n",
       "        vertical-align: top;\n",
       "    }\n",
       "\n",
       "    .dataframe thead th {\n",
       "        text-align: right;\n",
       "    }\n",
       "</style>\n",
       "<table border=\"1\" class=\"dataframe\">\n",
       "  <thead>\n",
       "    <tr style=\"text-align: right;\">\n",
       "      <th></th>\n",
       "      <th>Billing Date</th>\n",
       "      <th>Parent ID</th>\n",
       "      <th>Customer ID</th>\n",
       "      <th>Service ID</th>\n",
       "      <th>Product ID</th>\n",
       "      <th>Product Description</th>\n",
       "      <th>Volume</th>\n",
       "      <th>Charge</th>\n",
       "    </tr>\n",
       "  </thead>\n",
       "  <tbody>\n",
       "    <tr>\n",
       "      <th>0</th>\n",
       "      <td>2019-01-01</td>\n",
       "      <td>PARENT001</td>\n",
       "      <td>CUST955</td>\n",
       "      <td>SERV010</td>\n",
       "      <td>PROD058</td>\n",
       "      <td>Product 058</td>\n",
       "      <td>6</td>\n",
       "      <td>$243.75</td>\n",
       "    </tr>\n",
       "    <tr>\n",
       "      <th>1</th>\n",
       "      <td>2019-01-01</td>\n",
       "      <td>PARENT100</td>\n",
       "      <td>CUST957</td>\n",
       "      <td>SERV014</td>\n",
       "      <td>PROD058</td>\n",
       "      <td>Product 058</td>\n",
       "      <td>7</td>\n",
       "      <td>$160.00</td>\n",
       "    </tr>\n",
       "    <tr>\n",
       "      <th>2</th>\n",
       "      <td>2019-01-01</td>\n",
       "      <td>PARENT303</td>\n",
       "      <td>CUST958</td>\n",
       "      <td>SERV001</td>\n",
       "      <td>PROD058</td>\n",
       "      <td>Product 058</td>\n",
       "      <td>4</td>\n",
       "      <td>$208.75</td>\n",
       "    </tr>\n",
       "    <tr>\n",
       "      <th>3</th>\n",
       "      <td>2019-01-01</td>\n",
       "      <td>PARENT208</td>\n",
       "      <td>CUST959</td>\n",
       "      <td>SERV014</td>\n",
       "      <td>PROD058</td>\n",
       "      <td>Product 058</td>\n",
       "      <td>19</td>\n",
       "      <td>$226.25</td>\n",
       "    </tr>\n",
       "    <tr>\n",
       "      <th>4</th>\n",
       "      <td>2019-01-01</td>\n",
       "      <td>PARENT208</td>\n",
       "      <td>CUST962</td>\n",
       "      <td>SERV004</td>\n",
       "      <td>PROD058</td>\n",
       "      <td>Product 058</td>\n",
       "      <td>16</td>\n",
       "      <td>$226.25</td>\n",
       "    </tr>\n",
       "  </tbody>\n",
       "</table>\n",
       "</div>"
      ],
      "text/plain": [
       "  Billing Date  Parent ID Customer ID Service ID Product ID  \\\n",
       "0   2019-01-01  PARENT001     CUST955    SERV010    PROD058   \n",
       "1   2019-01-01  PARENT100     CUST957    SERV014    PROD058   \n",
       "2   2019-01-01  PARENT303     CUST958    SERV001    PROD058   \n",
       "3   2019-01-01  PARENT208     CUST959    SERV014    PROD058   \n",
       "4   2019-01-01  PARENT208     CUST962    SERV004    PROD058   \n",
       "\n",
       "  Product Description  Volume   Charge  \n",
       "0         Product 058       6  $243.75  \n",
       "1         Product 058       7  $160.00  \n",
       "2         Product 058       4  $208.75  \n",
       "3         Product 058      19  $226.25  \n",
       "4         Product 058      16  $226.25  "
      ]
     },
     "execution_count": 5,
     "metadata": {},
     "output_type": "execute_result"
    }
   ],
   "source": [
    "combined_data.head()"
   ]
  },
  {
   "cell_type": "code",
   "execution_count": 8,
   "metadata": {},
   "outputs": [
    {
     "data": {
      "text/plain": [
       "(2782955, 8)"
      ]
     },
     "execution_count": 8,
     "metadata": {},
     "output_type": "execute_result"
    }
   ],
   "source": [
    "# show number of rows and columns in combined data\n",
    "combined_data.shape"
   ]
  },
  {
   "cell_type": "code",
   "execution_count": 9,
   "metadata": {},
   "outputs": [],
   "source": [
    "# Save the combined data to a new CSV file\n",
    "combined_data.to_csv('customer_billing.csv', index=False)"
   ]
  },
  {
   "cell_type": "code",
   "execution_count": null,
   "metadata": {},
   "outputs": [],
   "source": []
  }
 ],
 "metadata": {
  "kernelspec": {
   "display_name": "Python 3",
   "language": "python",
   "name": "python3"
  },
  "language_info": {
   "codemirror_mode": {
    "name": "ipython",
    "version": 3
   },
   "file_extension": ".py",
   "mimetype": "text/x-python",
   "name": "python",
   "nbconvert_exporter": "python",
   "pygments_lexer": "ipython3",
   "version": "3.12.2"
  }
 },
 "nbformat": 4,
 "nbformat_minor": 2
}
